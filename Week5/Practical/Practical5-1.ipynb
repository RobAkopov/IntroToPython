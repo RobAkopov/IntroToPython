{
 "cells": [
  {
   "cell_type": "markdown",
   "metadata": {},
   "source": [
    "## Problem1"
   ]
  },
  {
   "cell_type": "code",
   "execution_count": 16,
   "metadata": {},
   "outputs": [
    {
     "name": "stdout",
     "output_type": "stream",
     "text": [
      "1st number: 20\n",
      "2nd number: 45\n",
      "3rd number: 60\n",
      "41\n"
     ]
    }
   ],
   "source": [
    "x = int(input('1st number: '))\n",
    "y = int(input('2nd number: '))\n",
    "z = int(input('3rd number: '))\n",
    "def averfunc(x,y,z):\n",
    "    a = (x+y+z)/3\n",
    "    return(a)\n",
    "c = int(averfunc(x,y,z))\n",
    "print(c)"
   ]
  },
  {
   "cell_type": "code",
   "execution_count": 14,
   "metadata": {},
   "outputs": [
    {
     "name": "stdout",
     "output_type": "stream",
     "text": [
      "1st number: 20\n",
      "2nd number: 45\n",
      "3rd number: 60\n"
     ]
    },
    {
     "data": {
      "text/plain": [
       "41.666666666666664"
      ]
     },
     "execution_count": 14,
     "metadata": {},
     "output_type": "execute_result"
    }
   ],
   "source": [
    "def averfunc(aversum):\n",
    "    a = (x+y+z)/3\n",
    "    return(a)\n",
    "x = int(input('1st number: '))\n",
    "y = int(input('2nd number: '))\n",
    "z = int(input('3rd number: '))\n",
    "averfunc((x,y,z))"
   ]
  },
  {
   "cell_type": "markdown",
   "metadata": {},
   "source": [
    "## Problem2"
   ]
  },
  {
   "cell_type": "code",
   "execution_count": 1,
   "metadata": {
    "scrolled": true
   },
   "outputs": [
    {
     "name": "stdout",
     "output_type": "stream",
     "text": [
      "7\n"
     ]
    }
   ],
   "source": [
    "l1 = [1,2,3,4,5,6,7,8,10,11,45,68,61,18]\n",
    "def even_func(l1):\n",
    "    e = [i for i in l1 if i % 2 == 0]\n",
    "    return e\n",
    "print(len(even_func(l1)))"
   ]
  },
  {
   "cell_type": "markdown",
   "metadata": {},
   "source": [
    "## Problem3"
   ]
  },
  {
   "cell_type": "code",
   "execution_count": 2,
   "metadata": {},
   "outputs": [
    {
     "name": "stdout",
     "output_type": "stream",
     "text": [
      "True\n"
     ]
    }
   ],
   "source": [
    "def pass_func(password):\n",
    "    if (len(password) >= 10) and (int(len(password) >= 2)):\n",
    "        print(True)\n",
    "    else:\n",
    "        print(False)\n",
    "pass_func('password23')"
   ]
  },
  {
   "cell_type": "markdown",
   "metadata": {},
   "source": [
    "## Problem4"
   ]
  },
  {
   "cell_type": "code",
   "execution_count": 6,
   "metadata": {},
   "outputs": [
    {
     "name": "stdout",
     "output_type": "stream",
     "text": [
      "James Hetfield Welcome to our company!\n"
     ]
    }
   ],
   "source": [
    "def my_func(name: str, greeting = 'Welcome to our company!'):\n",
    "    if isinstance(name, str):\n",
    "        print(name + greeting)\n",
    "    else:\n",
    "        print('Fatal Error')\n",
    "my_func(name = 'James Hetfield ')"
   ]
  },
  {
   "cell_type": "markdown",
   "metadata": {},
   "source": [
    "## Problem5"
   ]
  },
  {
   "cell_type": "code",
   "execution_count": 10,
   "metadata": {},
   "outputs": [
    {
     "name": "stdout",
     "output_type": "stream",
     "text": [
      "John  your average grade is: 8\n",
      "No grades availble for John\n"
     ]
    }
   ],
   "source": [
    "def arg_func(name: str, *argv):\n",
    "        if len(argv) > 0:  \n",
    "            print(name, ' your average grade is:', int(sum(argv)/len(argv)))\n",
    "        else:\n",
    "            print('No grades availble for', name)\n",
    "arg_func('John', 8,7,10)\n",
    "arg_func('John')"
   ]
  },
  {
   "cell_type": "markdown",
   "metadata": {},
   "source": [
    "## Problem6"
   ]
  },
  {
   "cell_type": "code",
   "execution_count": 27,
   "metadata": {},
   "outputs": [
    {
     "name": "stdout",
     "output_type": "stream",
     "text": [
      "Argument1 name:  k1 argument1 value:  v1\n",
      "Argument1 name:  k2 argument1 value:  v2\n",
      "Argument1 name:  k3 argument1 value:  v3\n",
      "Access denied to the user user\n"
     ]
    }
   ],
   "source": [
    "def kwarg_func(user: str, **kwargs):\n",
    "    if user == 'admin':\n",
    "        for key, value in kwargs.items():\n",
    "            print('Argument1 name: ', key, 'argument1 value: ', value)\n",
    "    else:\n",
    "        print('Access denied to the user ' + user)\n",
    "kwarg_func('admin', k1 = 'v1', k2 = 'v2', k3 = 'v3')\n",
    "kwarg_func('user')"
   ]
  },
  {
   "cell_type": "markdown",
   "metadata": {},
   "source": [
    "## Problem7"
   ]
  },
  {
   "cell_type": "code",
   "execution_count": 2,
   "metadata": {},
   "outputs": [],
   "source": [
    "import pretty_print\n",
    "\n",
    "def calculate_cube(x):\n",
    "    return x**3\n",
    "\n",
    "def calculate_square(x):\n",
    "    return x**2\n",
    "\n",
    "def main():\n",
    "    square = calculate_square(2)\n",
    "    pretty_print.simple_print(square)\n",
    "    cube = calculate_cube(4)\n",
    "    pretty_print.pro_print(cube)\n",
    "\n",
    "if __name__ == '__main__':\n",
    "    main()"
   ]
  },
  {
   "cell_type": "code",
   "execution_count": null,
   "metadata": {},
   "outputs": [],
   "source": [
    "def simple_print(x):\n",
    "    print('result: ', x)\n",
    "def pro_print(x):\n",
    "    print('The result of the operation is: ', x)"
   ]
  }
 ],
 "metadata": {
  "kernelspec": {
   "display_name": "Python 3",
   "language": "python",
   "name": "python3"
  },
  "language_info": {
   "codemirror_mode": {
    "name": "ipython",
    "version": 3
   },
   "file_extension": ".py",
   "mimetype": "text/x-python",
   "name": "python",
   "nbconvert_exporter": "python",
   "pygments_lexer": "ipython3",
   "version": "3.7.6"
  }
 },
 "nbformat": 4,
 "nbformat_minor": 4
}
