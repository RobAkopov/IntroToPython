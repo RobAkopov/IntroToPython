{
 "cells": [
  {
   "cell_type": "markdown",
   "metadata": {},
   "source": [
    "## Problem 2"
   ]
  },
  {
   "cell_type": "code",
   "execution_count": 1,
   "metadata": {},
   "outputs": [
    {
     "name": "stdout",
     "output_type": "stream",
     "text": [
      "course:  Intro to Python\n",
      "student:  Rob Akopov\n",
      "nickname:  Rob123\n",
      "grade:  15.6\n",
      "python_Expert:  True\n"
     ]
    }
   ],
   "source": [
    "var_course = \"Intro to Python\"\n",
    "var_student = \"Rob Akopov\"\n",
    "var_nickname = \"Rob123\"\n",
    "var_grade = 15.6\n",
    "var_pythonExpert = True\n",
    "print(\"course: \", var_course)\n",
    "print(\"student: \" , var_student)\n",
    "print(\"nickname: \", var_nickname)\n",
    "print(\"grade: \", var_grade)\n",
    "print(\"python_Expert: \", var_pythonExpert)"
   ]
  },
  {
   "cell_type": "markdown",
   "metadata": {},
   "source": [
    "## Problem 4"
   ]
  },
  {
   "cell_type": "code",
   "execution_count": 8,
   "metadata": {},
   "outputs": [
    {
     "name": "stdout",
     "output_type": "stream",
     "text": [
      "The hypotenuse of the triangle ABC =  5.0\n"
     ]
    }
   ],
   "source": [
    "a = 3\n",
    "b = 4\n",
    "c = (a**2 + b**2)\n",
    "c = c**0.5\n",
    "print(\"The hypotenuse of the triangle ABC = \", c)"
   ]
  }
 ],
 "metadata": {
  "kernelspec": {
   "display_name": "Python 3",
   "language": "python",
   "name": "python3"
  },
  "language_info": {
   "codemirror_mode": {
    "name": "ipython",
    "version": 3
   },
   "file_extension": ".py",
   "mimetype": "text/x-python",
   "name": "python",
   "nbconvert_exporter": "python",
   "pygments_lexer": "ipython3",
   "version": "3.7.4"
  }
 },
 "nbformat": 4,
 "nbformat_minor": 2
}
